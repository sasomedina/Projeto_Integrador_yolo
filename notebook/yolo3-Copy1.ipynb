{
 "cells": [
  {
   "cell_type": "code",
   "execution_count": 82,
   "metadata": {},
   "outputs": [],
   "source": [
    "import pandas as pd\n",
    "import cv2\n",
    "import argparse\n",
    "import numpy as np\n"
   ]
  },
  {
   "cell_type": "code",
   "execution_count": 83,
   "metadata": {},
   "outputs": [],
   "source": [
    "#mudar o nome da imagem\n",
    "path = os.getcwd()\n",
    "os.chdir(path)\n",
    "\n",
    "local_imagem = (r\".\\imagems\\Afinnity 255 - Duplex Apartment\\_MG_0207.jpg\")\n",
    "image_teste = (local_imagem)\n",
    "cfg_teste = (\"yolov3.cfg\")\n",
    "weight_teste = (\"yolov3.weights\")\n",
    "txt_teste = (\"yolov3.txt\")"
   ]
  },
  {
   "cell_type": "code",
   "execution_count": 84,
   "metadata": {},
   "outputs": [
    {
     "name": "stdout",
     "output_type": "stream",
     "text": [
      "['Afinnity 255 - Duplex Apartment', 'Ala Campinas_TwoBed', 'Alam. Campinas One_Bed', 'CA 1004 - Studio Classic', 'CA 1107 - Fotos Marketing - Studio Classic', 'CA 1302 - Dicastanha - Studio Classic', 'FL 061 Fotop - Studio Classic', 'FL 75 Dicastanha - Studio Classic', 'FL83']\n"
     ]
    }
   ],
   "source": [
    "from os import listdir\n",
    "from os.path import isfile, join, isdir\n",
    "\n",
    "dir_image = ('./images/')\n",
    "read_dir_images = [f for f in listdir(dir_image) if isdir(join(dir_image, f))]\n",
    "print (read_dir_image)"
   ]
  },
  {
   "cell_type": "code",
   "execution_count": 55,
   "metadata": {},
   "outputs": [
    {
     "name": "stdout",
     "output_type": "stream",
     "text": [
      "[['_MG_0207.jpg', '_MG_0208.jpg', '_MG_0209.jpg', '_MG_0210.jpg'], ['IMG_8839.jpg', 'IMG_8841.jpg', 'IMG_8843.jpg', 'IMG_8846.jpg', 'IMG_8851.jpg', 'IMG_8855.jpg', 'IMG_8859.jpg', 'IMG_8861.jpg', 'IMG_8862.jpg', 'IMG_8864.jpg', 'IMG_8865.jpg', 'IMG_8868.jpg', 'IMG_8873.jpg'], ['IMG_8801.jpg', 'IMG_8803.jpg', 'IMG_8807.jpg', 'IMG_8810.jpg', 'IMG_8813.jpg', 'IMG_8815.jpg', 'IMG_8818.jpg', 'IMG_8819.jpg', 'IMG_8823.jpg', 'IMG_8828.jpg', 'IMG_8830.jpg', 'IMG_8836.jpg'], ['Armarios1.jpg', 'Banheiro1.jpg', 'Banheiro2.jpg', 'Cozinha1.jpg', 'Cozinha2.jpg', 'Quarto2.jpg', 'Quarto3.jpg', 'Quarto4.jpg', 'Quarto6.jpg', 'Quarto8.jpg', 'Quarto9.jpg'], ['001_MOR5556.jpg', '002_MOR5674.jpg', '003_MOR5663.jpg', '004_MOR5638.jpg', '005_MOR5542.jpg', '006_MOR5593.jpg', '007_MOR5619.jpg', '008_MOR5681.jpg'], ['CA1302-01.jpg', 'CA1302-02.jpg', 'CA1302-03.jpg', 'CA1302-04.jpg', 'CA1302-05.jpg', 'CA1302-06.jpg', 'CA1302-07.jpg'], ['IMG_3930-HDR.jpg', 'IMG_3933-HDR.jpg', 'IMG_3939-HDR.jpg', 'IMG_3942-HDR.jpg', 'IMG_3951-HDR.jpg', 'IMG_3957-HDR.jpg', 'IMG_3963-HDR.jpg', 'IMG_3966-HDR.jpg', 'IMG_3972-HDR.jpg', 'IMG_3987-HDR.jpg', 'IMG_3990-HDR.jpg', 'IMG_3993-HDR.jpg', 'IMG_3996-HDR.jpg', 'IMG_3999-HDR.jpg', 'IMG_4003.jpg', 'IMG_4006.jpg', 'IMG_4007.jpg', 'IMG_4008.jpg', 'IMG_4015.jpg'], ['VNSTAY75-01 - Copia.jpg', 'VNSTAY75-01.jpg', 'VNSTAY75-02.jpg', 'VNSTAY75-03 - Copia.jpg', 'VNSTAY75-03.jpg', 'VNSTAY75-04 - Copia.jpg', 'VNSTAY75-04.jpg', 'VNSTAY75-05.jpg', 'VNSTAY75-06 - Copia.jpg', 'VNSTAY75-06.jpg', 'VNSTAY75-07 - Copia.jpg', 'VNSTAY75-07.jpg'], ['FL83-01.jpg', 'FL83-02.jpg', 'FL83-03.jpg', 'FL83-04.jpg', 'FL83-05.jpg', 'FL83-06.jpg', 'FL83-07.jpg']]\n"
     ]
    }
   ],
   "source": [
    "list= ([])\n",
    "for x in read_dir_images:\n",
    "    test = dir_image + x\n",
    "    read_images = [f for f in listdir(test) if isfile(join(test, f))]\n",
    "    list.append(read_images)\n",
    "print (list)\n"
   ]
  },
  {
   "cell_type": "code",
   "execution_count": 78,
   "metadata": {},
   "outputs": [
    {
     "name": "stdout",
     "output_type": "stream",
     "text": [
      "['./images/Afinnity 255 - Duplex Apartment', './images/Ala Campinas_TwoBed', './images/Alam. Campinas One_Bed', './images/CA 1004 - Studio Classic', './images/CA 1107 - Fotos Marketing - Studio Classic', './images/CA 1302 - Dicastanha - Studio Classic', './images/FL 061 Fotop - Studio Classic', './images/FL 75 Dicastanha - Studio Classic', './images/FL83']\n"
     ]
    }
   ],
   "source": [
    "seila = []\n",
    "for f in listdir(dir_image):\n",
    "    carro=join(dir_image, f)\n",
    "    seila.append(carro)\n",
    "print(seila)"
   ]
  },
  {
   "cell_type": "code",
   "execution_count": 80,
   "metadata": {},
   "outputs": [],
   "source": [
    "def get_output_layers(net):\n",
    "    \n",
    "    layer_names = net.getLayerNames()\n",
    "    \n",
    "    output_layers = [layer_names[i[0] - 1] for i in net.getUnconnectedOutLayers()]\n",
    "\n",
    "    return output_layers\n",
    "\n",
    "def draw_prediction(img, class_id, confidence, x, y, x_plus_w, y_plus_h):\n",
    "\n",
    "    label = str(classes[class_id])\n",
    "\n",
    "    color = COLORS[class_id]\n",
    "\n",
    "    cv2.rectangle(img, (x,y), (x_plus_w,y_plus_h), color, 2)\n",
    "\n",
    "    cv2.putText(img, label, (x-10,y-10), cv2.FONT_HERSHEY_SIMPLEX, 0.5, color, 2)"
   ]
  },
  {
   "cell_type": "code",
   "execution_count": 81,
   "metadata": {},
   "outputs": [
    {
     "ename": "AttributeError",
     "evalue": "'NoneType' object has no attribute 'shape'",
     "output_type": "error",
     "traceback": [
      "\u001b[1;31m---------------------------------------------------------------------------\u001b[0m",
      "\u001b[1;31mAttributeError\u001b[0m                            Traceback (most recent call last)",
      "\u001b[1;32m<ipython-input-81-967b6d51ba22>\u001b[0m in \u001b[0;36m<module>\u001b[1;34m\u001b[0m\n\u001b[0;32m      1\u001b[0m \u001b[0mimage\u001b[0m \u001b[1;33m=\u001b[0m \u001b[0mcv2\u001b[0m\u001b[1;33m.\u001b[0m\u001b[0mimread\u001b[0m\u001b[1;33m(\u001b[0m\u001b[0mimage_teste\u001b[0m\u001b[1;33m)\u001b[0m\u001b[1;33m\u001b[0m\u001b[1;33m\u001b[0m\u001b[0m\n\u001b[1;32m----> 2\u001b[1;33m \u001b[0mWidth\u001b[0m \u001b[1;33m=\u001b[0m \u001b[0mimage\u001b[0m\u001b[1;33m.\u001b[0m\u001b[0mshape\u001b[0m\u001b[1;33m[\u001b[0m\u001b[1;36m1\u001b[0m\u001b[1;33m]\u001b[0m\u001b[1;33m\u001b[0m\u001b[1;33m\u001b[0m\u001b[0m\n\u001b[0m\u001b[0;32m      3\u001b[0m \u001b[0mHeight\u001b[0m \u001b[1;33m=\u001b[0m \u001b[0mimage\u001b[0m\u001b[1;33m.\u001b[0m\u001b[0mshape\u001b[0m\u001b[1;33m[\u001b[0m\u001b[1;36m0\u001b[0m\u001b[1;33m]\u001b[0m\u001b[1;33m\u001b[0m\u001b[1;33m\u001b[0m\u001b[0m\n\u001b[0;32m      4\u001b[0m \u001b[0mscale\u001b[0m \u001b[1;33m=\u001b[0m \u001b[1;36m0.00392\u001b[0m\u001b[1;33m\u001b[0m\u001b[1;33m\u001b[0m\u001b[0m\n\u001b[0;32m      5\u001b[0m \u001b[0mclasses\u001b[0m \u001b[1;33m=\u001b[0m \u001b[1;32mNone\u001b[0m\u001b[1;33m\u001b[0m\u001b[1;33m\u001b[0m\u001b[0m\n",
      "\u001b[1;31mAttributeError\u001b[0m: 'NoneType' object has no attribute 'shape'"
     ]
    }
   ],
   "source": [
    "image = cv2.imread(image_teste)\n",
    "Width = image.shape[1]\n",
    "Height = image.shape[0]\n",
    "scale = 0.00392\n",
    "classes = None\n",
    "with open(txt_teste, 'r') as f:\n",
    "    classes = [line.strip() for line in f.readlines()]\n",
    "COLORS = np.random.uniform(0, 255, size=(len(classes), 3))\n",
    "net = cv2.dnn.readNet(weight_teste, cfg_teste)\n",
    "blob = cv2.dnn.blobFromImage(image, scale, (416,416), (0,0,0), True, crop=False)\n",
    "net.setInput(blob)\n",
    "outs = net.forward(get_output_layers(net))\n",
    "class_ids = []\n",
    "confidences = []\n",
    "boxes = []\n",
    "conf_threshold = 0.5\n",
    "nms_threshold = 0.4\n"
   ]
  },
  {
   "cell_type": "code",
   "execution_count": null,
   "metadata": {},
   "outputs": [],
   "source": [
    "for out in outs:\n",
    "    for detection in out:\n",
    "        scores = detection[5:]\n",
    "        class_id = np.argmax(scores)\n",
    "        confidence = scores[class_id]\n",
    "        if confidence > 0.5:\n",
    "            center_x = int(detection[0] * Width)\n",
    "            center_y = int(detection[1] * Height)\n",
    "            w = int(detection[2] * Width)\n",
    "            h = int(detection[3] * Height)\n",
    "            x = center_x - w / 2\n",
    "            y = center_y - h / 2\n",
    "            class_ids.append(class_id)\n",
    "            confidences.append(float(confidence))\n",
    "            boxes.append([x, y, w, h])\n",
    "\n",
    "\n",
    "indices = cv2.dnn.NMSBoxes(boxes, confidences, conf_threshold, nms_threshold)\n"
   ]
  },
  {
   "cell_type": "code",
   "execution_count": null,
   "metadata": {},
   "outputs": [],
   "source": [
    "for i in indices:\n",
    "    i = i[0]\n",
    "    box = boxes[i]\n",
    "    x = box[0]\n",
    "    y = box[1]\n",
    "    w = box[2]\n",
    "    h = box[3]\n",
    "    teste=\n",
    "    draw_prediction(image, class_ids[i], confidences[i], round(x), round(y), round(x+w), round(y+h))"
   ]
  },
  {
   "cell_type": "code",
   "execution_count": null,
   "metadata": {},
   "outputs": [],
   "source": [
    "cv2.imshow(\"object detection\", image)\n",
    "cv2.waitKey()\n",
    "cv2.imwrite(\"object-detection.jpg\", image)\n",
    "cv2.destroyAllWindows()"
   ]
  },
  {
   "cell_type": "code",
   "execution_count": null,
   "metadata": {},
   "outputs": [],
   "source": [
    "#teste = [class_ids,]\n",
    "#teste.append\n",
    "print (draw_prediction)"
   ]
  },
  {
   "cell_type": "code",
   "execution_count": null,
   "metadata": {},
   "outputs": [],
   "source": [
    "for _ in class_ids:\n",
    "    detected_items = classes[_]\n",
    "    print(detected_items)"
   ]
  },
  {
   "cell_type": "code",
   "execution_count": null,
   "metadata": {},
   "outputs": [],
   "source": []
  }
 ],
 "metadata": {
  "kernelspec": {
   "display_name": "Python 3.7.4 64-bit ('base': conda)",
   "language": "python",
   "name": "python37464bitbasecondaba8ddd5bd1404578839ccc567ffcb0c2"
  },
  "language_info": {
   "codemirror_mode": {
    "name": "ipython",
    "version": 3
   },
   "file_extension": ".py",
   "mimetype": "text/x-python",
   "name": "python",
   "nbconvert_exporter": "python",
   "pygments_lexer": "ipython3",
   "version": "3.7.4"
  },
  "varInspector": {
   "cols": {
    "lenName": 16,
    "lenType": 16,
    "lenVar": 40
   },
   "kernels_config": {
    "python": {
     "delete_cmd_postfix": "",
     "delete_cmd_prefix": "del ",
     "library": "var_list.py",
     "varRefreshCmd": "print(var_dic_list())"
    },
    "r": {
     "delete_cmd_postfix": ") ",
     "delete_cmd_prefix": "rm(",
     "library": "var_list.r",
     "varRefreshCmd": "cat(var_dic_list()) "
    }
   },
   "oldHeight": 638,
   "position": {
    "height": "660px",
    "left": "683px",
    "right": "20px",
    "top": "-1px",
    "width": "577px"
   },
   "types_to_exclude": [
    "module",
    "function",
    "builtin_function_or_method",
    "instance",
    "_Feature"
   ],
   "varInspector_section_display": "block",
   "window_display": true
  }
 },
 "nbformat": 4,
 "nbformat_minor": 2
}
